{
 "cells": [
  {
   "cell_type": "markdown",
   "id": "cad42732-3a23-46f4-8197-4e0ecb9c462c",
   "metadata": {},
   "source": [
    "# Data Science Tools and Ecosystem"
   ]
  },
  {
   "cell_type": "markdown",
   "id": "855ed8f2-f45a-45ce-8026-537901899bbf",
   "metadata": {},
   "source": [
    "In this notebook, Data Science Tools and Ecosystem are summarized."
   ]
  },
  {
   "cell_type": "markdown",
   "id": "a074eb3f-e932-4b21-82c1-ee7bdf14c10b",
   "metadata": {},
   "source": [
    "Some of the popular languages that Data Scientists use are:\n",
    "1. Python\n",
    "2. R\n",
    "3. SQL\n",
    "4. Scala"
   ]
  },
  {
   "cell_type": "markdown",
   "id": "dd41a383-93e6-41c7-935a-13f06e512a52",
   "metadata": {},
   "source": [
    "| Data Science Tools |\n",
    "| Category          | Tools                               |\n",
    "| :---------------- | :------------------------------------ |\n",
    "| Data Management   | MySQL, PostgreSQL, MongoDB, Hadoop  |\n",
    "| Data Integration  | Apache AirFlow, Kafka, NiFi         |\n",
    "| Data Visualization| Tableau, Power BI, Matplotlib, Seaborn |\n",
    "| Machine Learning  | Scikit-learn, TensorFlow, PyTorch   |\n",
    "| Model Deployment  | Docker, Kubernetes, AWS SageMaker    |\n",
    "| Code Asset Management | Git, GitHub, GitLab, Bitbucket |\n",
    "| Notebooks | Jupyter, Zeppelin, RStudio |"
   ]
  },
  {
   "cell_type": "markdown",
   "id": "d7e69727-27e8-4b65-abbd-0594d45c6cb9",
   "metadata": {},
   "source": [
    "### Below are a few examples of evaluating arithmetic expressions in Python."
   ]
  },
  {
   "cell_type": "code",
   "execution_count": 7,
   "id": "e559bd79-d2eb-49d7-b5af-919df1c49bf2",
   "metadata": {},
   "outputs": [
    {
     "data": {
      "text/plain": [
       "17"
      ]
     },
     "execution_count": 7,
     "metadata": {},
     "output_type": "execute_result"
    }
   ],
   "source": [
    "# This a simple arithmetic expression to mutiply then add integers.\n",
    "(3 * 4) + 5"
   ]
  },
  {
   "cell_type": "code",
   "execution_count": 9,
   "id": "8a61d49f-9aaa-4f6c-9e23-35d92e5205e2",
   "metadata": {},
   "outputs": [
    {
     "data": {
      "text/plain": [
       "3.3333333333333335"
      ]
     },
     "execution_count": 9,
     "metadata": {},
     "output_type": "execute_result"
    }
   ],
   "source": [
    "# This will convert 200 minutes to hours by diving by 60.\n",
    "200 / 60"
   ]
  },
  {
   "cell_type": "markdown",
   "id": "ec9bc8ee-a67e-42ce-b400-a16e573e62f1",
   "metadata": {},
   "source": [
    "**Objectives:**\n",
    "* List popular languages for Data Science.\n",
    "* List commonly used libraries for Data Science.\n",
    "* List Data Science Tools.\n",
    "* Provide examples of arithmetic expressions in Python.\n",
    "* Convert minutes to hours in Python."
   ]
  },
  {
   "cell_type": "markdown",
   "id": "84d92888-fec4-4e79-b6e5-8c0394132bf7",
   "metadata": {},
   "source": [
    "## Author\n",
    "Deep Kamal Maheshwari"
   ]
  },
  {
   "cell_type": "code",
   "execution_count": null,
   "id": "618b3a91-c061-4350-b192-5816b496c852",
   "metadata": {},
   "outputs": [],
   "source": []
  }
 ],
 "metadata": {
  "kernelspec": {
   "display_name": "Python [conda env:base] *",
   "language": "python",
   "name": "conda-base-py"
  },
  "language_info": {
   "codemirror_mode": {
    "name": "ipython",
    "version": 3
   },
   "file_extension": ".py",
   "mimetype": "text/x-python",
   "name": "python",
   "nbconvert_exporter": "python",
   "pygments_lexer": "ipython3",
   "version": "3.12.7"
  }
 },
 "nbformat": 4,
 "nbformat_minor": 5
}
